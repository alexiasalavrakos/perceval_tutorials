{
 "cells": [
  {
   "cell_type": "markdown",
   "id": "f2959dfa-8338-487d-93b9-f59e7538aa3a",
   "metadata": {},
   "source": [
    "Imports"
   ]
  },
  {
   "cell_type": "code",
   "execution_count": null,
   "id": "a40dfe9b-9aa2-460a-be06-49e4697df9e8",
   "metadata": {},
   "outputs": [],
   "source": [
    "import perceval as pcvl\n",
    "import os\n",
    "import numpy as np\n",
    "from perceval.components.unitary_components import BS, PERM, PS\n",
    "from pprint import pprint\n",
    "import tqdm\n",
    "import time"
   ]
  },
  {
   "cell_type": "markdown",
   "id": "a7cf9fa8-85af-4743-954b-b03f02e37cdf",
   "metadata": {},
   "source": [
    "We want to reproduce this circuit:"
   ]
  },
  {
   "cell_type": "markdown",
   "id": "fc865fd3-a3c2-482a-8379-925b1efcaf5f",
   "metadata": {},
   "source": [
    "![](chsh.png)"
   ]
  },
  {
   "cell_type": "markdown",
   "id": "7acbf306-4b66-4605-84ff-60b1edd45821",
   "metadata": {},
   "source": [
    "Define input state and circuit:"
   ]
  },
  {
   "cell_type": "code",
   "execution_count": null,
   "id": "7c59a27b-f509-4728-aeb3-1b9c16ed1454",
   "metadata": {},
   "outputs": [],
   "source": [
    "input_state = pcvl.BasicState()"
   ]
  },
  {
   "cell_type": "code",
   "execution_count": null,
   "id": "aa4be43d-932d-4948-a6bb-c7574642a194",
   "metadata": {},
   "outputs": [],
   "source": [
    "circuit = pcvl.Circuit()"
   ]
  },
  {
   "cell_type": "markdown",
   "id": "c3d6b8a8-609d-4837-a535-1b56b9d3a413",
   "metadata": {},
   "source": [
    "The circuit starts with two 50/50 beam-splitters:"
   ]
  },
  {
   "cell_type": "code",
   "execution_count": null,
   "id": "df705782-385b-4134-a08f-599d96678fe0",
   "metadata": {},
   "outputs": [],
   "source": [
    "circuit.add(0, BS())\n",
    "circuit.add(2, BS())"
   ]
  },
  {
   "cell_type": "code",
   "execution_count": null,
   "id": "3916a5fa-cf02-4919-a33a-aec92e9aec4f",
   "metadata": {},
   "outputs": [],
   "source": [
    "pcvl.pdisplay(circuit)"
   ]
  },
  {
   "cell_type": "markdown",
   "id": "ae62d45c-132b-43ab-a82c-61c9425e984e",
   "metadata": {},
   "source": [
    "Then we have a permutation of modes. PERM is a simple perceval component:"
   ]
  },
  {
   "cell_type": "code",
   "execution_count": null,
   "id": "0c743da7-9be5-484f-b427-5d450b77fdc0",
   "metadata": {},
   "outputs": [],
   "source": [
    "perm_example = PERM([2,0,1])\n",
    "pcvl.pdisplay(perm_example)"
   ]
  },
  {
   "cell_type": "markdown",
   "id": "4e475bb0-4ae2-4160-899a-a9629ab6f660",
   "metadata": {},
   "source": [
    "Here we switch Alice's second mode with Bob's first mode:"
   ]
  },
  {
   "cell_type": "code",
   "execution_count": null,
   "id": "fc29f08b-1ac3-4d4f-8897-bfb9b7156601",
   "metadata": {},
   "outputs": [],
   "source": [
    "circuit.add(0, PERM())"
   ]
  },
  {
   "cell_type": "markdown",
   "id": "66c62c2d-984c-419d-b5b1-f6db9a4be266",
   "metadata": {},
   "source": [
    "How does it look so far?"
   ]
  },
  {
   "cell_type": "code",
   "execution_count": null,
   "id": "f47b0f33-7ebd-4a28-9ab1-42d0c597773e",
   "metadata": {
    "scrolled": true
   },
   "outputs": [],
   "source": [
    "pcvl.pdisplay(circuit)"
   ]
  },
  {
   "cell_type": "markdown",
   "id": "98c3f6b1-3c8b-44f0-a26a-eb5f291b8d72",
   "metadata": {},
   "source": [
    "Now let's add the two interferometers that define the measurement bases. We keep the angles as parameters to be set during the Bell test."
   ]
  },
  {
   "cell_type": "code",
   "execution_count": null,
   "id": "5f8185d9-a92e-4b92-8b25-8d8cc6b85b92",
   "metadata": {},
   "outputs": [],
   "source": [
    "psi_A = pcvl.P('psi_A')\n",
    "psi_B = pcvl.P('psi_B')\n",
    "\n",
    "circuit.add(0, PS(psi_A))\n",
    "circuit.add(3, PS(psi_B))"
   ]
  },
  {
   "cell_type": "code",
   "execution_count": null,
   "id": "fbef795d-5768-44ff-b6ed-a3d9144d610b",
   "metadata": {},
   "outputs": [],
   "source": [
    "circuit.add(0, BS())\n",
    "circuit.add(2, BS())"
   ]
  },
  {
   "cell_type": "code",
   "execution_count": null,
   "id": "c9fc6adb-4ec2-4a41-ac01-20915de4982d",
   "metadata": {},
   "outputs": [],
   "source": [
    "phi_A = pcvl.P('phi_A')\n",
    "phi_B = pcvl.P('phi_B')\n",
    "\n",
    "circuit.add(0, PS(phi_A))\n",
    "circuit.add(3, PS(phi_B))"
   ]
  },
  {
   "cell_type": "code",
   "execution_count": null,
   "id": "a1eed0ea-66ba-4082-a5d3-54940297eec1",
   "metadata": {},
   "outputs": [],
   "source": [
    "circuit.add(0, BS())\n",
    "circuit.add(2, BS())"
   ]
  },
  {
   "cell_type": "markdown",
   "id": "963f8004-bbcc-4ee6-9b78-0028cb0f33fa",
   "metadata": {},
   "source": [
    "How does it look now?"
   ]
  },
  {
   "cell_type": "code",
   "execution_count": null,
   "id": "144ffcc4-7e1e-4fa4-b0fd-0816bcf21aa8",
   "metadata": {},
   "outputs": [],
   "source": [
    "pcvl.pdisplay(circuit)"
   ]
  },
  {
   "cell_type": "markdown",
   "id": "0819d915-cc4a-4acb-b363-eb60c22fa091",
   "metadata": {},
   "source": [
    "What are the angles needed for the CHSH measurements?"
   ]
  },
  {
   "cell_type": "markdown",
   "id": "70e4909e-c28a-4321-bf0e-f360f8f4e905",
   "metadata": {},
   "source": [
    "![](chsh_meas.png)"
   ]
  },
  {
   "cell_type": "markdown",
   "id": "914c05a2-8c9f-4499-b629-4615b951b71c",
   "metadata": {},
   "source": [
    "This means we can just set the psi angles to 0:"
   ]
  },
  {
   "cell_type": "code",
   "execution_count": null,
   "id": "79cfbcc6-298f-4570-83ac-be9ff1a0421f",
   "metadata": {},
   "outputs": [],
   "source": [
    "psi_A.set_value(0)\n",
    "psi_B.set_value(0)"
   ]
  },
  {
   "cell_type": "markdown",
   "id": "baa0e19a-b3a3-4fc2-a6e9-c2de28c046a8",
   "metadata": {},
   "source": [
    "Let us define the processor and sampler for our simulation:"
   ]
  },
  {
   "cell_type": "code",
   "execution_count": null,
   "id": "35c1741b-f4e1-4d0e-ad29-7dcd83d534b2",
   "metadata": {},
   "outputs": [],
   "source": [
    "processor = pcvl.Processor(\"SLOS\", circuit)"
   ]
  },
  {
   "cell_type": "markdown",
   "id": "476ac20d-a97a-47be-a897-5c8500b4033a",
   "metadata": {},
   "source": [
    "We have a post-selection rule in our dual rail encoding: there should be 1 photon in Alice's mode and 1 photon in Bob's modes:"
   ]
  },
  {
   "cell_type": "code",
   "execution_count": null,
   "id": "03134d76-db62-4072-9ab4-23b73b119019",
   "metadata": {},
   "outputs": [],
   "source": [
    "post_selection_rule = pcvl.PostSelect(\"[0,1] == 1 & [2,3] == 1\")\n",
    "processor.set_postselection(post_selection_rule)"
   ]
  },
  {
   "cell_type": "code",
   "execution_count": null,
   "id": "ba739834-fe44-436a-9be1-1e48e6ada2c5",
   "metadata": {},
   "outputs": [],
   "source": [
    "processor.with_input(input_state)"
   ]
  },
  {
   "cell_type": "code",
   "execution_count": null,
   "id": "aae34733-b38f-406a-922e-df0e5dfa39e5",
   "metadata": {},
   "outputs": [],
   "source": [
    "sampler = pcvl.algorithm.Sampler(processor)"
   ]
  },
  {
   "cell_type": "markdown",
   "id": "80bf5790-d4c6-48fd-af82-91bd847b3360",
   "metadata": {},
   "source": [
    "And now let us run a sampling simulation for all the inputs of the Bell test:"
   ]
  },
  {
   "cell_type": "code",
   "execution_count": null,
   "id": "cba86d3e-a788-4226-8795-515f876254e9",
   "metadata": {},
   "outputs": [],
   "source": [
    "total_samples = 10000"
   ]
  },
  {
   "cell_type": "code",
   "execution_count": null,
   "id": "aae04727-17e8-44d4-a383-3a0d0ae35f84",
   "metadata": {},
   "outputs": [],
   "source": [
    "for x in [-np.pi/2, 0]:\n",
    "    for y in [-np.pi/4, np.pi/4]:\n",
    "        phi_A.set_value(x)\n",
    "        phi_B.set_value(y)\n",
    "        sample_count = sampler.sample_count(total_samples/4)\n",
    "        print(sample_count['results'])"
   ]
  },
  {
   "cell_type": "markdown",
   "id": "bcb8011d-de7a-485c-bd34-d4c3131dc1af",
   "metadata": {},
   "source": [
    "Those are just the raw results. Now we have to compute the CHSH expression.\n",
    "\n",
    "Recall: $B_{CHSH} = |<A_1B_1> + <A_1B_2> + <A_2B_1> - <A_2B_2>|$\n",
    "\n",
    "With $<A_xB_y> = p(00|xy) - p(01|xy) - p(10|xy) + p(11|xy)$"
   ]
  },
  {
   "cell_type": "code",
   "execution_count": null,
   "id": "5c126498-3bb6-43c7-b591-068b2d42d191",
   "metadata": {},
   "outputs": [],
   "source": [
    "correlator_list = []\n",
    "\n",
    "for x in [0, -np.pi/2]:\n",
    "    for y in [-np.pi/4, np.pi/4]:\n",
    "        phi_A.set_value(x)\n",
    "        phi_B.set_value(y)\n",
    "        sample_count = sampler.sample_count(total_samples/4)\n",
    "        \n",
    "        correlator = (sample_count['results'][pcvl.BasicState('|1,0,1,0>')] \n",
    "                      - sample_count['results'][pcvl.BasicState('|1,0,0,1>')]\n",
    "                      - sample_count['results'][pcvl.BasicState('|0,1,1,0>')]\n",
    "                      + sample_count['results'][pcvl.BasicState('|0,1,0,1>')])\n",
    "\n",
    "        correlator = correlator/(total_samples/4)\n",
    "        \n",
    "        correlator_list.append(correlator)"
   ]
  },
  {
   "cell_type": "code",
   "execution_count": null,
   "id": "82acad43-fc5a-4508-9c73-f73b6997b530",
   "metadata": {},
   "outputs": [],
   "source": [
    "correlator_list"
   ]
  },
  {
   "cell_type": "code",
   "execution_count": null,
   "id": "190938e6-6a29-4cca-8c2e-ce2e3876605d",
   "metadata": {},
   "outputs": [],
   "source": [
    "CHSH = np.abs(correlator_list[0] + correlator_list[1] + correlator_list[2] - correlator_list[3])\n",
    "CHSH"
   ]
  },
  {
   "cell_type": "code",
   "execution_count": null,
   "id": "3ec36e89-c359-4b87-844a-e0e4d32d0623",
   "metadata": {},
   "outputs": [],
   "source": [
    "2*np.sqrt(2)"
   ]
  },
  {
   "cell_type": "code",
   "execution_count": null,
   "id": "e8e9ba58-14b2-4065-b625-1090a2c248dc",
   "metadata": {},
   "outputs": [],
   "source": []
  },
  {
   "cell_type": "markdown",
   "id": "7e60a9fb-9625-4fb4-b097-3b615fff31aa",
   "metadata": {},
   "source": [
    "Now let's try it on the cloud: use token that you can create in the web interface"
   ]
  },
  {
   "cell_type": "code",
   "execution_count": null,
   "id": "a93b8dc0-7852-4775-8119-3002ed7c796d",
   "metadata": {},
   "outputs": [],
   "source": [
    "token_cloud = ''"
   ]
  },
  {
   "cell_type": "markdown",
   "id": "53b59d41-b62d-42ec-a612-2af5abf93097",
   "metadata": {},
   "source": [
    "Define remote processor instead of usual processor:"
   ]
  },
  {
   "cell_type": "code",
   "execution_count": null,
   "id": "5cf49995-3893-4326-ac2a-f0395f8cabc6",
   "metadata": {},
   "outputs": [],
   "source": [
    "remote_simulator = pcvl.RemoteProcessor(\"sim:ascella\", token_cloud)"
   ]
  },
  {
   "cell_type": "markdown",
   "id": "b6a0f700-95df-4db2-9e36-d3eff87a6a93",
   "metadata": {},
   "source": [
    "You can easily access the specificities of the machines on the cloud:"
   ]
  },
  {
   "cell_type": "code",
   "execution_count": null,
   "id": "8e6e04e1-0a5a-4a24-b87e-82e89c3eda7e",
   "metadata": {},
   "outputs": [],
   "source": [
    "specs = remote_simulator.specs\n",
    "pcvl.pdisplay(specs[\"specific_circuit\"])"
   ]
  },
  {
   "cell_type": "code",
   "execution_count": null,
   "id": "cec6dc70-8864-4799-9f80-e85c0e37c11d",
   "metadata": {},
   "outputs": [],
   "source": [
    "print(\"Platform constraints:\")\n",
    "pprint(specs[\"constraints\"])\n",
    "print(\"\\nPlatform supported parameters:\")\n",
    "pprint(specs[\"parameters\"])"
   ]
  },
  {
   "cell_type": "markdown",
   "id": "ce898921-4c53-468b-bf9a-6078ec924144",
   "metadata": {},
   "source": [
    "Set the circuit as usual:"
   ]
  },
  {
   "cell_type": "code",
   "execution_count": null,
   "id": "0758b34b-87c6-4f77-adcf-131bf1da1e1a",
   "metadata": {},
   "outputs": [],
   "source": [
    "remote_simulator.set_circuit(circuit)\n",
    "remote_simulator.with_input(input_state)"
   ]
  },
  {
   "cell_type": "code",
   "execution_count": null,
   "id": "de86ab46-a150-42ee-9fe1-f887343f9020",
   "metadata": {},
   "outputs": [],
   "source": [
    "# optional if you want to change the noise parameters in a simulator\n",
    "#remote_simulator.set_parameters({  \n",
    "#    \"HOM\": .95,\n",
    "#    \"transmittance\": .1,\n",
    "#    \"g2\": .01\n",
    "#})"
   ]
  },
  {
   "cell_type": "markdown",
   "id": "ef7933bb-97ad-4b43-b929-ce398405adba",
   "metadata": {},
   "source": [
    "Post selection and photon click rules:"
   ]
  },
  {
   "cell_type": "code",
   "execution_count": null,
   "id": "7b3c96b5-8742-41b3-8a8a-6ac17b93dba0",
   "metadata": {},
   "outputs": [],
   "source": [
    "remote_simulator.min_detected_photons_filter(1)"
   ]
  },
  {
   "cell_type": "code",
   "execution_count": null,
   "id": "6e8c21f6-392f-4be0-ae14-ffdaae72a2dd",
   "metadata": {},
   "outputs": [],
   "source": [
    "remote_simulator.set_postselection(post_selection_rule)"
   ]
  },
  {
   "cell_type": "markdown",
   "id": "cbdb10ee-c8ab-4c57-acbd-3ff4bed296ad",
   "metadata": {},
   "source": [
    "Define remote job:"
   ]
  },
  {
   "cell_type": "code",
   "execution_count": null,
   "id": "e90cbc24-6bea-4d15-a34c-9082f7fc9a2d",
   "metadata": {},
   "outputs": [],
   "source": [
    "nsamples = 200000\n",
    "sampler = pcvl.algorithm.Sampler(remote_simulator, max_shots_per_call=nsamples) \n",
    "\n",
    "sampler.default_job_name = \"My sampling job\"  \n",
    "\n",
    "remote_job = sampler.sample_count.execute_async(nsamples)"
   ]
  },
  {
   "cell_type": "code",
   "execution_count": null,
   "id": "21345ca3-f9db-4df8-bd5f-68638f08f9fc",
   "metadata": {},
   "outputs": [],
   "source": [
    "while not remote_job.is_complete:\n",
    "    time.sleep(0.02)\n",
    "\n",
    "print(f\"Job status = {remote_job.status()}\")"
   ]
  },
  {
   "cell_type": "markdown",
   "id": "a409197c-c2a5-4690-b135-f9b555d8ff6d",
   "metadata": {},
   "source": [
    "Get results:"
   ]
  },
  {
   "cell_type": "code",
   "execution_count": null,
   "id": "70f91f86-5e7a-44d9-992a-331f9acecc5f",
   "metadata": {},
   "outputs": [],
   "source": [
    "results = remote_job.get_results()\n",
    "print(results['results'])"
   ]
  },
  {
   "cell_type": "markdown",
   "id": "db0f0503-3436-4bd5-b5ca-463119626c66",
   "metadata": {},
   "source": [
    "Now let's do it for the 4 correlators in the loop:"
   ]
  },
  {
   "cell_type": "code",
   "execution_count": null,
   "id": "231b79c6-3f8b-4b65-9db0-c72ed41e1f36",
   "metadata": {},
   "outputs": [],
   "source": [
    "correlator_list = []\n",
    "\n",
    "for x in [0, -np.pi/2]:\n",
    "    for y in [-np.pi/4, np.pi/4]:\n",
    "        phi_A.set_value(x)\n",
    "        phi_B.set_value(y)\n",
    "\n",
    "        remote_job = sampler.sample_count.execute_async(nsamples)  \n",
    "        while not remote_job.is_complete:\n",
    "            time.sleep(0.02)\n",
    "        print(f\"Job status = {remote_job.status()}\")\n",
    "\n",
    "        results = remote_job.get_results()\n",
    "\n",
    "        total_counts = (results['results'][pcvl.BasicState('|1,0,1,0>')] \n",
    "                      + results['results'][pcvl.BasicState('|1,0,0,1>')]\n",
    "                      + results['results'][pcvl.BasicState('|0,1,1,0>')]\n",
    "                      + results['results'][pcvl.BasicState('|0,1,0,1>')])\n",
    "        \n",
    "        correlator = (results['results'][pcvl.BasicState('|1,0,1,0>')] \n",
    "                      - results['results'][pcvl.BasicState('|1,0,0,1>')]\n",
    "                      - results['results'][pcvl.BasicState('|0,1,1,0>')]\n",
    "                      + results['results'][pcvl.BasicState('|0,1,0,1>')])\n",
    "\n",
    "        prob_list = [results['results'][pcvl.BasicState('|1,0,1,0>')]/total_counts,\n",
    "                     results['results'][pcvl.BasicState('|1,0,0,1>')]/total_counts,\n",
    "                     results['results'][pcvl.BasicState('|0,1,1,0>')]/total_counts,\n",
    "                     results['results'][pcvl.BasicState('|0,1,0,1>')]/total_counts]\n",
    "\n",
    "        correlator = correlator/total_counts\n",
    "        \n",
    "        correlator_list.append(correlator)"
   ]
  },
  {
   "cell_type": "markdown",
   "id": "b49e880f-c036-40e4-8383-adc9638bdd12",
   "metadata": {},
   "source": [
    "Check the correlators and check that the probabilities sum to 1:"
   ]
  },
  {
   "cell_type": "code",
   "execution_count": null,
   "id": "68bb6ec4-3705-4642-aee4-2eff4d8a161c",
   "metadata": {},
   "outputs": [],
   "source": [
    "correlator_list"
   ]
  },
  {
   "cell_type": "code",
   "execution_count": null,
   "id": "7d653c57-fed9-4d83-9b3e-e0f00e0add68",
   "metadata": {},
   "outputs": [],
   "source": [
    "sum(prob_list)"
   ]
  },
  {
   "cell_type": "markdown",
   "id": "955602ee-505e-4649-a743-8c73c3fc80aa",
   "metadata": {},
   "source": [
    "We get a CHSH value which should be less than the max violation because of the noise:"
   ]
  },
  {
   "cell_type": "code",
   "execution_count": null,
   "id": "466f59b1-b1b4-405c-b28d-cf58dd8845e1",
   "metadata": {},
   "outputs": [],
   "source": [
    "CHSH = np.abs(correlator_list[0] + correlator_list[1] + correlator_list[2] - correlator_list[3])\n",
    "CHSH"
   ]
  },
  {
   "cell_type": "code",
   "execution_count": null,
   "id": "17a6e61b-4a61-49cb-b52e-612edcde77f5",
   "metadata": {},
   "outputs": [],
   "source": []
  }
 ],
 "metadata": {
  "kernelspec": {
   "display_name": "Python 3 (ipykernel)",
   "language": "python",
   "name": "python3"
  },
  "language_info": {
   "codemirror_mode": {
    "name": "ipython",
    "version": 3
   },
   "file_extension": ".py",
   "mimetype": "text/x-python",
   "name": "python",
   "nbconvert_exporter": "python",
   "pygments_lexer": "ipython3",
   "version": "3.10.6"
  }
 },
 "nbformat": 4,
 "nbformat_minor": 5
}
