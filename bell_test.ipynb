{
 "cells": [
  {
   "cell_type": "markdown",
   "id": "f2959dfa-8338-487d-93b9-f59e7538aa3a",
   "metadata": {},
   "source": [
    "Imports"
   ]
  },
  {
   "cell_type": "code",
   "execution_count": null,
   "id": "a40dfe9b-9aa2-460a-be06-49e4697df9e8",
   "metadata": {},
   "outputs": [],
   "source": [
    "import perceval as pcvl\n",
    "import os\n",
    "import numpy as np\n",
    "from perceval.components.unitary_components import BS, PERM, PS"
   ]
  },
  {
   "cell_type": "markdown",
   "id": "a7cf9fa8-85af-4743-954b-b03f02e37cdf",
   "metadata": {},
   "source": [
    "We want to reproduce this circuit:"
   ]
  },
  {
   "cell_type": "markdown",
   "id": "fc865fd3-a3c2-482a-8379-925b1efcaf5f",
   "metadata": {},
   "source": [
    "![](chsh.png)"
   ]
  },
  {
   "cell_type": "markdown",
   "id": "7acbf306-4b66-4605-84ff-60b1edd45821",
   "metadata": {},
   "source": [
    "Define input state and circuit:"
   ]
  },
  {
   "cell_type": "code",
   "execution_count": null,
   "id": "7c59a27b-f509-4728-aeb3-1b9c16ed1454",
   "metadata": {},
   "outputs": [],
   "source": [
    "input_state = pcvl.BasicState()"
   ]
  },
  {
   "cell_type": "code",
   "execution_count": null,
   "id": "aa4be43d-932d-4948-a6bb-c7574642a194",
   "metadata": {},
   "outputs": [],
   "source": [
    "circuit = pcvl.Circuit()"
   ]
  },
  {
   "cell_type": "markdown",
   "id": "c3d6b8a8-609d-4837-a535-1b56b9d3a413",
   "metadata": {},
   "source": [
    "The circuit starts with two 50/50 beam-splitters:"
   ]
  },
  {
   "cell_type": "code",
   "execution_count": null,
   "id": "df705782-385b-4134-a08f-599d96678fe0",
   "metadata": {},
   "outputs": [],
   "source": [
    "circuit.add(0, BS())\n",
    "circuit.add(2, BS())"
   ]
  },
  {
   "cell_type": "code",
   "execution_count": null,
   "id": "3916a5fa-cf02-4919-a33a-aec92e9aec4f",
   "metadata": {},
   "outputs": [],
   "source": [
    "pcvl.pdisplay(circuit)"
   ]
  },
  {
   "cell_type": "markdown",
   "id": "ae62d45c-132b-43ab-a82c-61c9425e984e",
   "metadata": {},
   "source": [
    "Then we have a permutation of modes. PERM is a simple perceval component:"
   ]
  },
  {
   "cell_type": "code",
   "execution_count": null,
   "id": "0c743da7-9be5-484f-b427-5d450b77fdc0",
   "metadata": {},
   "outputs": [],
   "source": [
    "perm_example = PERM([2,0,1])\n",
    "pcvl.pdisplay(perm_example)"
   ]
  },
  {
   "cell_type": "markdown",
   "id": "4e475bb0-4ae2-4160-899a-a9629ab6f660",
   "metadata": {},
   "source": [
    "Here we switch Alice's second mode with Bob's first mode:"
   ]
  },
  {
   "cell_type": "code",
   "execution_count": null,
   "id": "fc29f08b-1ac3-4d4f-8897-bfb9b7156601",
   "metadata": {},
   "outputs": [],
   "source": [
    "circuit.add(0, PERM())"
   ]
  },
  {
   "cell_type": "markdown",
   "id": "66c62c2d-984c-419d-b5b1-f6db9a4be266",
   "metadata": {},
   "source": [
    "How does it look so far?"
   ]
  },
  {
   "cell_type": "code",
   "execution_count": null,
   "id": "f47b0f33-7ebd-4a28-9ab1-42d0c597773e",
   "metadata": {},
   "outputs": [],
   "source": [
    "pcvl.pdisplay(circuit)"
   ]
  },
  {
   "cell_type": "markdown",
   "id": "98c3f6b1-3c8b-44f0-a26a-eb5f291b8d72",
   "metadata": {},
   "source": [
    "Now let's add the two interferometers that define the measurement bases. We keep the angles as parameters to be set during the Bell test."
   ]
  },
  {
   "cell_type": "code",
   "execution_count": null,
   "id": "5f8185d9-a92e-4b92-8b25-8d8cc6b85b92",
   "metadata": {},
   "outputs": [],
   "source": [
    "psi_A = pcvl.P('psi_A')\n",
    "psi_B = pcvl.P('psi_B')\n",
    "\n",
    "circuit.add(0, PS(psi_A))\n",
    "circuit.add(3, PS(psi_B))"
   ]
  },
  {
   "cell_type": "code",
   "execution_count": null,
   "id": "fbef795d-5768-44ff-b6ed-a3d9144d610b",
   "metadata": {},
   "outputs": [],
   "source": [
    "circuit.add(0, BS())\n",
    "circuit.add(2, BS())"
   ]
  },
  {
   "cell_type": "code",
   "execution_count": null,
   "id": "c9fc6adb-4ec2-4a41-ac01-20915de4982d",
   "metadata": {},
   "outputs": [],
   "source": [
    "phi_A = pcvl.P('phi_A')\n",
    "phi_B = pcvl.P('phi_B')\n",
    "\n",
    "circuit.add(0, PS(phi_A))\n",
    "circuit.add(3, PS(phi_B))"
   ]
  },
  {
   "cell_type": "code",
   "execution_count": null,
   "id": "a1eed0ea-66ba-4082-a5d3-54940297eec1",
   "metadata": {},
   "outputs": [],
   "source": [
    "circuit.add(0, BS())\n",
    "circuit.add(2, BS())"
   ]
  },
  {
   "cell_type": "markdown",
   "id": "963f8004-bbcc-4ee6-9b78-0028cb0f33fa",
   "metadata": {},
   "source": [
    "How does it look now?"
   ]
  },
  {
   "cell_type": "code",
   "execution_count": null,
   "id": "144ffcc4-7e1e-4fa4-b0fd-0816bcf21aa8",
   "metadata": {},
   "outputs": [],
   "source": [
    "pcvl.pdisplay(circuit)"
   ]
  },
  {
   "cell_type": "markdown",
   "id": "0819d915-cc4a-4acb-b363-eb60c22fa091",
   "metadata": {},
   "source": [
    "What are the angles needed for the CHSH measurements?"
   ]
  },
  {
   "cell_type": "markdown",
   "id": "70e4909e-c28a-4321-bf0e-f360f8f4e905",
   "metadata": {},
   "source": [
    "![](chsh_meas.png)"
   ]
  },
  {
   "cell_type": "markdown",
   "id": "914c05a2-8c9f-4499-b629-4615b951b71c",
   "metadata": {},
   "source": [
    "This means we can just set the psi angles to 0:"
   ]
  },
  {
   "cell_type": "code",
   "execution_count": null,
   "id": "79cfbcc6-298f-4570-83ac-be9ff1a0421f",
   "metadata": {},
   "outputs": [],
   "source": [
    "psi_A.set_value(0)\n",
    "psi_B.set_value(0)"
   ]
  },
  {
   "cell_type": "markdown",
   "id": "baa0e19a-b3a3-4fc2-a6e9-c2de28c046a8",
   "metadata": {},
   "source": [
    "Let us define the processor and sampler for our simulation:"
   ]
  },
  {
   "cell_type": "code",
   "execution_count": null,
   "id": "35c1741b-f4e1-4d0e-ad29-7dcd83d534b2",
   "metadata": {},
   "outputs": [],
   "source": [
    "processor = pcvl.Processor(\"SLOS\", circuit)"
   ]
  },
  {
   "cell_type": "markdown",
   "id": "476ac20d-a97a-47be-a897-5c8500b4033a",
   "metadata": {},
   "source": [
    "We have a post-selection rule in our dual rail encoding: there should be 1 photon in Alice's mode and 1 photon in Bob's modes:"
   ]
  },
  {
   "cell_type": "code",
   "execution_count": null,
   "id": "03134d76-db62-4072-9ab4-23b73b119019",
   "metadata": {},
   "outputs": [],
   "source": [
    "post_selection_rule = pcvl.PostSelect(\"[0,1] == 1 & [2,3] == 1\")\n",
    "processor.set_postselection(post_selection_rule)"
   ]
  },
  {
   "cell_type": "code",
   "execution_count": null,
   "id": "ba739834-fe44-436a-9be1-1e48e6ada2c5",
   "metadata": {},
   "outputs": [],
   "source": [
    "processor.with_input(input_state)"
   ]
  },
  {
   "cell_type": "code",
   "execution_count": null,
   "id": "aae34733-b38f-406a-922e-df0e5dfa39e5",
   "metadata": {},
   "outputs": [],
   "source": [
    "sampler = pcvl.algorithm.Sampler(processor)"
   ]
  },
  {
   "cell_type": "markdown",
   "id": "80bf5790-d4c6-48fd-af82-91bd847b3360",
   "metadata": {},
   "source": [
    "And now let us run a sampling simulation for all the inputs of the Bell test:"
   ]
  },
  {
   "cell_type": "code",
   "execution_count": null,
   "id": "cba86d3e-a788-4226-8795-515f876254e9",
   "metadata": {},
   "outputs": [],
   "source": [
    "total_samples = 10000"
   ]
  },
  {
   "cell_type": "code",
   "execution_count": null,
   "id": "aae04727-17e8-44d4-a383-3a0d0ae35f84",
   "metadata": {},
   "outputs": [],
   "source": [
    "for x in [-np.pi/2, 0]:\n",
    "    for y in [-np.pi/4, np.pi/4]:\n",
    "        phi_A.set_value(x)\n",
    "        phi_B.set_value(y)\n",
    "        sample_count = sampler.sample_count(total_samples/4)\n",
    "        print(sample_count['results'])"
   ]
  },
  {
   "cell_type": "markdown",
   "id": "bcb8011d-de7a-485c-bd34-d4c3131dc1af",
   "metadata": {},
   "source": [
    "Those are just the raw results. Now we have to compute the CHSH expression.\n",
    "\n",
    "Recall: $B_{CHSH} = |<A_1B_1> + <A_1B_2> + <A_2B_1> - <A_2B_2>|$\n",
    "\n",
    "With $<A_xB_y> = p(00|xy) - p(01|xy) - p(10|xy) + p(11|xy)$"
   ]
  },
  {
   "cell_type": "code",
   "execution_count": null,
   "id": "5c126498-3bb6-43c7-b591-068b2d42d191",
   "metadata": {},
   "outputs": [],
   "source": [
    "correlator_list = []\n",
    "\n",
    "for x in [0, -np.pi/2]:\n",
    "    for y in [-np.pi/4, np.pi/4]:\n",
    "        phi_A.set_value(x)\n",
    "        phi_B.set_value(y)\n",
    "        sample_count = sampler.sample_count(total_samples/4)\n",
    "        \n",
    "        correlator = (sample_count['results'][pcvl.BasicState('|1,0,1,0>')] \n",
    "                      - sample_count['results'][pcvl.BasicState('|1,0,0,1>')]\n",
    "                      - sample_count['results'][pcvl.BasicState('|0,1,1,0>')]\n",
    "                      + sample_count['results'][pcvl.BasicState('|0,1,0,1>')])\n",
    "\n",
    "        correlator = correlator/(total_samples/4)\n",
    "        \n",
    "        correlator_list.append(correlator)"
   ]
  },
  {
   "cell_type": "code",
   "execution_count": null,
   "id": "82acad43-fc5a-4508-9c73-f73b6997b530",
   "metadata": {},
   "outputs": [],
   "source": [
    "correlator_list"
   ]
  },
  {
   "cell_type": "code",
   "execution_count": null,
   "id": "190938e6-6a29-4cca-8c2e-ce2e3876605d",
   "metadata": {},
   "outputs": [],
   "source": [
    "CHSH = np.abs(correlator_list[0] + correlator_list[1] + correlator_list[2] - correlator_list[3])\n",
    "CHSH"
   ]
  },
  {
   "cell_type": "code",
   "execution_count": null,
   "id": "3ec36e89-c359-4b87-844a-e0e4d32d0623",
   "metadata": {},
   "outputs": [],
   "source": [
    "2*np.sqrt(2)"
   ]
  },
  {
   "cell_type": "code",
   "execution_count": null,
   "id": "e8e9ba58-14b2-4065-b625-1090a2c248dc",
   "metadata": {},
   "outputs": [],
   "source": []
  }
 ],
 "metadata": {
  "kernelspec": {
   "display_name": "Python 3 (ipykernel)",
   "language": "python",
   "name": "python3"
  },
  "language_info": {
   "codemirror_mode": {
    "name": "ipython",
    "version": 3
   },
   "file_extension": ".py",
   "mimetype": "text/x-python",
   "name": "python",
   "nbconvert_exporter": "python",
   "pygments_lexer": "ipython3",
   "version": "3.10.6"
  }
 },
 "nbformat": 4,
 "nbformat_minor": 5
}
