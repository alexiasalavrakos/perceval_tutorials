{
 "cells": [
  {
   "cell_type": "markdown",
   "id": "209b6829-f01b-4614-973e-eec9c8b0e4f2",
   "metadata": {},
   "source": [
    "Imports"
   ]
  },
  {
   "cell_type": "code",
   "execution_count": null,
   "id": "c70bd152-4cfe-44da-b416-76348a3431b1",
   "metadata": {},
   "outputs": [],
   "source": [
    "import perceval as pcvl\n",
    "from perceval.components import BS\n",
    "import numpy as np"
   ]
  },
  {
   "cell_type": "markdown",
   "id": "7dd4721e-b564-4171-8d34-a554f39c3d61",
   "metadata": {},
   "source": [
    "We want to reproduce the following circuit:"
   ]
  },
  {
   "cell_type": "markdown",
   "id": "3ec82eda-0a65-4bf0-afb0-2441aed08c35",
   "metadata": {},
   "source": [
    "![](cnot_image.png)"
   ]
  },
  {
   "cell_type": "code",
   "execution_count": null,
   "id": "c3303161-0de2-426d-a587-4237de3df0e0",
   "metadata": {},
   "outputs": [],
   "source": [
    "theta_13 = BS.r_to_theta(r=1/3)\n",
    "\n",
    "cnot = (pcvl.Circuit (6 , name =\" Ralph CNOT \")\n",
    "        .add((0, 1), BS.H(theta_13, phi_bl = np.pi, phi_tr = np.pi/2, phi_tl = -np.pi/2))\n",
    "        .add((3, 4), BS.H())\n",
    "        .add((2, 3), BS.H(theta_13, phi_bl = np.pi, phi_tr = np.pi/2 , phi_tl = -np.pi/2))\n",
    "        .add((4, 5), BS.H(theta_13))\n",
    "        .add((3, 4), BS.H()))"
   ]
  },
  {
   "cell_type": "code",
   "execution_count": null,
   "id": "1ae03de3-a594-4aa5-af49-8702917d98f2",
   "metadata": {},
   "outputs": [],
   "source": [
    "pcvl.pdisplay(cnot)"
   ]
  },
  {
   "cell_type": "code",
   "execution_count": null,
   "id": "19c53e00-f357-4122-a3e4-027b3c0cd24f",
   "metadata": {},
   "outputs": [],
   "source": [
    "#pcvl.pdisplay(cnot.compute_unitary())"
   ]
  },
  {
   "cell_type": "code",
   "execution_count": null,
   "id": "5c6ac843-adbf-4f3e-9f5c-00146613d597",
   "metadata": {},
   "outputs": [],
   "source": []
  },
  {
   "cell_type": "markdown",
   "id": "b05fa63d-7be6-455b-aa8b-25fd72df761f",
   "metadata": {},
   "source": [
    "Postselected states are those containing one photon in the modes {1,2} and the other in the modes {3,4}"
   ]
  },
  {
   "cell_type": "code",
   "execution_count": null,
   "id": "4a2e3a37-291d-48b5-acb3-97bda2bbd461",
   "metadata": {},
   "outputs": [],
   "source": [
    "post_selection_rule = pcvl.PostSelect(\"[1,2] == 1 & [3,4] == 1\")"
   ]
  },
  {
   "cell_type": "code",
   "execution_count": null,
   "id": "62ee7f1a-75a6-424d-9d3e-030b3fe6d89a",
   "metadata": {},
   "outputs": [],
   "source": [
    "cnot_processor = pcvl.Processor(\"SLOS\", cnot)"
   ]
  },
  {
   "cell_type": "code",
   "execution_count": null,
   "id": "52c07d0e-4439-4bc3-aadc-ca7d5c802b38",
   "metadata": {},
   "outputs": [],
   "source": [
    "cnot_processor.set_postselection(post_selection_rule)"
   ]
  },
  {
   "cell_type": "code",
   "execution_count": null,
   "id": "5adb83c0-4311-4d2e-9900-74fca01991b7",
   "metadata": {},
   "outputs": [],
   "source": [
    "states = {pcvl.BasicState ([0 , 1 , 0 , 1 , 0 , 0]): \"00\",\n",
    "          pcvl.BasicState ([0 , 1 , 0 , 0 , 1 , 0]): \"01\",\n",
    "          pcvl.BasicState ([0 , 0 , 1 , 1 , 0 , 0]): \"10\",\n",
    "          pcvl.BasicState ([0 , 0 , 1 , 0 , 1 , 0]): \"11\"}"
   ]
  },
  {
   "cell_type": "code",
   "execution_count": null,
   "id": "8c3b1a47-7666-430a-8dc0-0d57acc82181",
   "metadata": {},
   "outputs": [],
   "source": [
    "analyzer = pcvl.algorithm.Analyzer(cnot_processor, states)"
   ]
  },
  {
   "cell_type": "code",
   "execution_count": null,
   "id": "21fef410-b3b7-4e5e-864d-bc4c28eacad4",
   "metadata": {},
   "outputs": [],
   "source": [
    "pcvl.pdisplay(analyzer)"
   ]
  },
  {
   "cell_type": "code",
   "execution_count": null,
   "id": "aa9022e9-50f4-43b4-9ca1-95e4bfef79d6",
   "metadata": {},
   "outputs": [],
   "source": []
  },
  {
   "cell_type": "markdown",
   "id": "6b897e39-4a66-4b70-b2b2-eba30dbb9ef2",
   "metadata": {},
   "source": [
    "Alternatively, simulating the sampling process:"
   ]
  },
  {
   "cell_type": "code",
   "execution_count": null,
   "id": "47eb9fda-90ea-40f2-9cc8-8f1141a5a51e",
   "metadata": {},
   "outputs": [],
   "source": [
    "cnot_processor.with_input(pcvl.BasicState([0,0,1,0,1,0]))"
   ]
  },
  {
   "cell_type": "code",
   "execution_count": null,
   "id": "ab1ac8dc-80e2-4fc9-a357-d247de6aca03",
   "metadata": {},
   "outputs": [],
   "source": [
    "sampler = pcvl.algorithm.Sampler(cnot_processor)\n",
    "\n",
    "sample_count = sampler.sample_count(1000)\n",
    "print(sample_count['results'])"
   ]
  },
  {
   "cell_type": "code",
   "execution_count": null,
   "id": "a890b049-9bba-4c26-819e-ef60bf37dd37",
   "metadata": {},
   "outputs": [],
   "source": []
  },
  {
   "cell_type": "code",
   "execution_count": null,
   "id": "d6781aef-24f6-44a5-b6f5-1bb7cf6f0b7d",
   "metadata": {},
   "outputs": [],
   "source": []
  },
  {
   "cell_type": "code",
   "execution_count": null,
   "id": "f8f32015-02c8-42d3-9296-965378463724",
   "metadata": {},
   "outputs": [],
   "source": []
  },
  {
   "cell_type": "code",
   "execution_count": null,
   "id": "17195aec-1b3b-49e1-84cc-5e36a4484aa6",
   "metadata": {},
   "outputs": [],
   "source": []
  },
  {
   "cell_type": "code",
   "execution_count": null,
   "id": "f872b7ae-bad0-4ea6-8e51-c457106ed07e",
   "metadata": {},
   "outputs": [],
   "source": []
  },
  {
   "cell_type": "code",
   "execution_count": null,
   "id": "5ee5726b-ec41-450a-aec6-bdaa3649f0b5",
   "metadata": {},
   "outputs": [],
   "source": []
  },
  {
   "cell_type": "markdown",
   "id": "0389a46e-8665-4104-af05-14a727858a44",
   "metadata": {},
   "source": [
    "Adding some noise:"
   ]
  },
  {
   "cell_type": "code",
   "execution_count": null,
   "id": "b9a91e51-5169-44f8-8e6b-c6863c858bd9",
   "metadata": {},
   "outputs": [],
   "source": [
    "noisy_source = pcvl.Source(losses = 0.9,\n",
    "                           emission_probability = 1.0,\n",
    "                           multiphoton_component = 0.1,\n",
    "                           indistinguishability = 0.9)"
   ]
  },
  {
   "cell_type": "code",
   "execution_count": null,
   "id": "3510564d-479e-407b-bd71-cbe791323be6",
   "metadata": {},
   "outputs": [],
   "source": [
    "noisy_processor = pcvl.Processor(\"SLOS\", source = noisy_source)"
   ]
  },
  {
   "cell_type": "code",
   "execution_count": null,
   "id": "9a4f1730-58e7-432d-9664-65b451af485f",
   "metadata": {},
   "outputs": [],
   "source": [
    "noisy_processor.set_circuit(cnot)"
   ]
  },
  {
   "cell_type": "code",
   "execution_count": null,
   "id": "f5bc5bc5-3120-4579-ac5a-8f51e6cff2b7",
   "metadata": {},
   "outputs": [],
   "source": [
    "noisy_processor.with_input(pcvl.BasicState([0,0,1,0,1,0]))"
   ]
  },
  {
   "cell_type": "code",
   "execution_count": null,
   "id": "d2ad91fb-4432-4dc0-8873-fdb33587e2b5",
   "metadata": {},
   "outputs": [],
   "source": [
    "noisy_processor.set_postselection(post_selection_rule)"
   ]
  },
  {
   "cell_type": "code",
   "execution_count": null,
   "id": "95c8b3d4-4197-454f-893b-ad0ce0c28b10",
   "metadata": {},
   "outputs": [],
   "source": [
    "sampler = pcvl.algorithm.Sampler(noisy_processor)\n",
    "\n",
    "sample_count = sampler.sample_count(1000)\n",
    "print(sample_count['results'])"
   ]
  },
  {
   "cell_type": "code",
   "execution_count": null,
   "id": "408992df-bd20-4288-9916-53e6e782714b",
   "metadata": {},
   "outputs": [],
   "source": []
  }
 ],
 "metadata": {
  "kernelspec": {
   "display_name": "Python 3 (ipykernel)",
   "language": "python",
   "name": "python3"
  },
  "language_info": {
   "codemirror_mode": {
    "name": "ipython",
    "version": 3
   },
   "file_extension": ".py",
   "mimetype": "text/x-python",
   "name": "python",
   "nbconvert_exporter": "python",
   "pygments_lexer": "ipython3",
   "version": "3.10.6"
  }
 },
 "nbformat": 4,
 "nbformat_minor": 5
}
