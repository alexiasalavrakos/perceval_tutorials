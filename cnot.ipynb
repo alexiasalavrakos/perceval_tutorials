{
 "cells": [
  {
   "cell_type": "markdown",
   "id": "209b6829-f01b-4614-973e-eec9c8b0e4f2",
   "metadata": {},
   "source": [
    "Imports"
   ]
  },
  {
   "cell_type": "code",
   "execution_count": null,
   "id": "c70bd152-4cfe-44da-b416-76348a3431b1",
   "metadata": {},
   "outputs": [],
   "source": [
    "import perceval as pcvl\n",
    "from perceval.components import BS\n",
    "import numpy as np"
   ]
  },
  {
   "cell_type": "markdown",
   "id": "7dd4721e-b564-4171-8d34-a554f39c3d61",
   "metadata": {},
   "source": [
    "We want to reproduce the following circuit:"
   ]
  },
  {
   "cell_type": "markdown",
   "id": "3ec82eda-0a65-4bf0-afb0-2441aed08c35",
   "metadata": {},
   "source": [
    "![](cnot_image.png)"
   ]
  },
  {
   "cell_type": "code",
   "execution_count": null,
   "id": "c3303161-0de2-426d-a587-4237de3df0e0",
   "metadata": {},
   "outputs": [],
   "source": [
    "theta_13 = BS.r_to_theta(r=1/3)\n",
    "\n",
    "cnot = (pcvl.Circuit(6, name = \"Ralph CNOT\")\n",
    "        .add((0, 1), BS.H(theta_13, phi_bl = np.pi, phi_tr = np.pi/2, phi_tl = -np.pi/2))\n",
    "        .add((3, 4), BS.H())\n",
    "        .add((2, 3), BS.H(theta_13, phi_bl = np.pi, phi_tr = np.pi/2 , phi_tl = -np.pi/2))\n",
    "        .add((4, 5), BS.H(theta_13))\n",
    "        .add((3, 4), BS.H()))"
   ]
  },
  {
   "cell_type": "code",
   "execution_count": null,
   "id": "1ae03de3-a594-4aa5-af49-8702917d98f2",
   "metadata": {},
   "outputs": [],
   "source": [
    "pcvl.pdisplay(cnot)"
   ]
  },
  {
   "cell_type": "code",
   "execution_count": null,
   "id": "19c53e00-f357-4122-a3e4-027b3c0cd24f",
   "metadata": {},
   "outputs": [],
   "source": [
    "pcvl.pdisplay(cnot.compute_unitary())"
   ]
  },
  {
   "cell_type": "markdown",
   "id": "b05fa63d-7be6-455b-aa8b-25fd72df761f",
   "metadata": {},
   "source": [
    "Postselected states are those containing one photon in the modes {1,2} and the other in the modes {3,4}"
   ]
  },
  {
   "cell_type": "code",
   "execution_count": null,
   "id": "4a2e3a37-291d-48b5-acb3-97bda2bbd461",
   "metadata": {},
   "outputs": [],
   "source": [
    "post_selection_rule = pcvl.PostSelect(\"\")"
   ]
  },
  {
   "cell_type": "code",
   "execution_count": null,
   "id": "62ee7f1a-75a6-424d-9d3e-030b3fe6d89a",
   "metadata": {},
   "outputs": [],
   "source": [
    "cnot_processor = pcvl.Processor(\"SLOS\", cnot)"
   ]
  },
  {
   "cell_type": "code",
   "execution_count": null,
   "id": "52c07d0e-4439-4bc3-aadc-ca7d5c802b38",
   "metadata": {},
   "outputs": [],
   "source": [
    "cnot_processor.set_postselection(post_selection_rule)"
   ]
  },
  {
   "cell_type": "code",
   "execution_count": null,
   "id": "36cd9ec1-38e2-4cec-af7a-b397d4adc7e8",
   "metadata": {},
   "outputs": [],
   "source": [
    "states = {pcvl.BasicState(): \"00\",\n",
    "          pcvl.BasicState(): \"01\",\n",
    "          pcvl.BasicState(): \"10\",\n",
    "          pcvl.BasicState(): \"11\"}"
   ]
  },
  {
   "cell_type": "code",
   "execution_count": null,
   "id": "2b0bcb0b-98cb-4425-a37f-c3af8e9b6fc4",
   "metadata": {},
   "outputs": [],
   "source": [
    "analyzer = pcvl.algorithm.Analyzer(cnot_processor, states)"
   ]
  },
  {
   "cell_type": "code",
   "execution_count": null,
   "id": "9a7b79c2-27dd-4c4a-a009-302292ff4ade",
   "metadata": {},
   "outputs": [],
   "source": [
    "pcvl.pdisplay(analyzer)"
   ]
  },
  {
   "cell_type": "code",
   "execution_count": null,
   "id": "b96a5374-ae3c-4928-83c1-2120639dbc7e",
   "metadata": {},
   "outputs": [],
   "source": [
    "cnot_processor_test = pcvl.Processor(\"SLOS\", cnot)"
   ]
  },
  {
   "cell_type": "code",
   "execution_count": null,
   "id": "1def6f9b-7e81-4794-a3f8-f2eff6969034",
   "metadata": {},
   "outputs": [],
   "source": [
    "analyzer = pcvl.algorithm.Analyzer(cnot_processor_test, states, '*')"
   ]
  },
  {
   "cell_type": "code",
   "execution_count": null,
   "id": "21fef410-b3b7-4e5e-864d-bc4c28eacad4",
   "metadata": {},
   "outputs": [],
   "source": [
    "pcvl.pdisplay(analyzer)"
   ]
  },
  {
   "cell_type": "markdown",
   "id": "6b897e39-4a66-4b70-b2b2-eba30dbb9ef2",
   "metadata": {},
   "source": [
    "Alternatively, simulating the sampling process:"
   ]
  },
  {
   "cell_type": "code",
   "execution_count": null,
   "id": "47eb9fda-90ea-40f2-9cc8-8f1141a5a51e",
   "metadata": {},
   "outputs": [],
   "source": [
    "cnot_processor.with_input(pcvl.BasicState([0,0,1,0,1,0]))"
   ]
  },
  {
   "cell_type": "code",
   "execution_count": null,
   "id": "ab1ac8dc-80e2-4fc9-a357-d247de6aca03",
   "metadata": {},
   "outputs": [],
   "source": [
    "sampler = pcvl.algorithm.Sampler(cnot_processor)\n",
    "\n",
    "sample_count = sampler.sample_count(1000)\n",
    "print(sample_count)"
   ]
  },
  {
   "cell_type": "code",
   "execution_count": null,
   "id": "a890b049-9bba-4c26-819e-ef60bf37dd37",
   "metadata": {},
   "outputs": [],
   "source": [
    "samples_list = sampler.samples(10)\n",
    "print(samples_list)"
   ]
  },
  {
   "cell_type": "markdown",
   "id": "4eff618c-3c1e-4278-b942-db573578cdc5",
   "metadata": {},
   "source": [
    "Checking the circuit step by step using **Simulator** class and **evolve** method:"
   ]
  },
  {
   "cell_type": "code",
   "execution_count": null,
   "id": "cd26e837-324d-4498-ba6e-0bcda0985e99",
   "metadata": {},
   "outputs": [],
   "source": [
    "backend = pcvl.BackendFactory().get_backend(\"SLOS\")\n",
    "simulator = pcvl.Simulator(backend)"
   ]
  },
  {
   "cell_type": "markdown",
   "id": "9379f5fa-dfb1-4789-8a80-0bb9ad15b936",
   "metadata": {},
   "source": [
    "Let's check for |11> state:"
   ]
  },
  {
   "cell_type": "code",
   "execution_count": null,
   "id": "d042175f-934d-4be7-be3a-c5c5633a7d2c",
   "metadata": {},
   "outputs": [],
   "source": [
    "state_11 = pcvl.BasicState([0,0,1,0,1,0])"
   ]
  },
  {
   "cell_type": "code",
   "execution_count": null,
   "id": "c0851c12-0631-45f3-b38a-0d157beafa36",
   "metadata": {},
   "outputs": [],
   "source": [
    "bs_half_34 = pcvl.Circuit(6).add(3,BS.H())"
   ]
  },
  {
   "cell_type": "code",
   "execution_count": null,
   "id": "1cf239e2-b73f-4898-8d3e-0c530dab57d1",
   "metadata": {},
   "outputs": [],
   "source": [
    "bs_third_01 = pcvl.Circuit(6).add(0, BS.H(theta_13, phi_bl = np.pi, phi_tr = np.pi/2, phi_tl = -np.pi/2))"
   ]
  },
  {
   "cell_type": "code",
   "execution_count": null,
   "id": "abf74809-91c3-4c4b-800d-e48df9b597df",
   "metadata": {},
   "outputs": [],
   "source": [
    "bs_third_23 = pcvl.Circuit(6).add(2, BS.H(theta_13, phi_bl = np.pi, phi_tr = np.pi/2, phi_tl = -np.pi/2))"
   ]
  },
  {
   "cell_type": "code",
   "execution_count": null,
   "id": "d6781aef-24f6-44a5-b6f5-1bb7cf6f0b7d",
   "metadata": {},
   "outputs": [],
   "source": [
    "bs_third_45 = pcvl.Circuit(6).add(4, BS.H(theta_13, phi_bl = np.pi, phi_tr = np.pi/2, phi_tl = -np.pi/2))"
   ]
  },
  {
   "cell_type": "code",
   "execution_count": null,
   "id": "f8f32015-02c8-42d3-9296-965378463724",
   "metadata": {},
   "outputs": [],
   "source": [
    "total_circuit = pcvl.Circuit(6).add(0, bs_half_34)\n",
    "#total_circuit = pcvl.Circuit(6).add(0, bs_half_34).add(0, bs_third_01)\n",
    "#total_circuit = pcvl.Circuit(6).add(0, bs_half_34).add(0, bs_third_01).add(0,bs_third_45)\n",
    "#total_circuit = pcvl.Circuit(6).add(0, bs_half_34).add(0, bs_third_01).add(0,bs_third_45).add(0,bs_third_23)\n",
    "#total_circuit = pcvl.Circuit(6).add(0, bs_half_34).add(0, bs_third_01).add(0,bs_third_45).add(0,bs_third_23).add(0, bs_half_34)"
   ]
  },
  {
   "cell_type": "code",
   "execution_count": null,
   "id": "858701aa-fe09-444a-bd1d-c93b0e84fc73",
   "metadata": {},
   "outputs": [],
   "source": [
    "#pcvl.pdisplay()"
   ]
  },
  {
   "cell_type": "code",
   "execution_count": null,
   "id": "708ac5e5-fe5a-412e-9781-f24bef892d87",
   "metadata": {},
   "outputs": [],
   "source": [
    "#pcvl.pdisplay(total_circuit.compute_unitary())"
   ]
  },
  {
   "cell_type": "code",
   "execution_count": null,
   "id": "17195aec-1b3b-49e1-84cc-5e36a4484aa6",
   "metadata": {},
   "outputs": [],
   "source": [
    "simulator.set_circuit(total_circuit)"
   ]
  },
  {
   "cell_type": "code",
   "execution_count": null,
   "id": "f872b7ae-bad0-4ea6-8e51-c457106ed07e",
   "metadata": {},
   "outputs": [],
   "source": [
    "simulator.evolve(state_11)"
   ]
  },
  {
   "cell_type": "code",
   "execution_count": null,
   "id": "5ee5726b-ec41-450a-aec6-bdaa3649f0b5",
   "metadata": {},
   "outputs": [],
   "source": []
  },
  {
   "cell_type": "markdown",
   "id": "0389a46e-8665-4104-af05-14a727858a44",
   "metadata": {},
   "source": [
    "Adding some noise:"
   ]
  },
  {
   "cell_type": "code",
   "execution_count": null,
   "id": "b9a91e51-5169-44f8-8e6b-c6863c858bd9",
   "metadata": {},
   "outputs": [],
   "source": [
    "noisy_source = pcvl.Source(losses = 0.9,\n",
    "                           emission_probability = 1.0,\n",
    "                           multiphoton_component = 0.1,\n",
    "                           indistinguishability = 0.9)"
   ]
  },
  {
   "cell_type": "code",
   "execution_count": null,
   "id": "3510564d-479e-407b-bd71-cbe791323be6",
   "metadata": {},
   "outputs": [],
   "source": [
    "noisy_processor = pcvl.Processor(\"SLOS\", source = noisy_source)"
   ]
  },
  {
   "cell_type": "code",
   "execution_count": null,
   "id": "9a4f1730-58e7-432d-9664-65b451af485f",
   "metadata": {},
   "outputs": [],
   "source": [
    "noisy_processor.set_circuit(cnot)"
   ]
  },
  {
   "cell_type": "code",
   "execution_count": null,
   "id": "f5bc5bc5-3120-4579-ac5a-8f51e6cff2b7",
   "metadata": {},
   "outputs": [],
   "source": [
    "noisy_processor.with_input(pcvl.BasicState([0,0,1,0,1,0]))"
   ]
  },
  {
   "cell_type": "code",
   "execution_count": null,
   "id": "d2ad91fb-4432-4dc0-8873-fdb33587e2b5",
   "metadata": {},
   "outputs": [],
   "source": [
    "noisy_processor.set_postselection(post_selection_rule)"
   ]
  },
  {
   "cell_type": "code",
   "execution_count": null,
   "id": "95c8b3d4-4197-454f-893b-ad0ce0c28b10",
   "metadata": {},
   "outputs": [],
   "source": [
    "sampler = pcvl.algorithm.Sampler(noisy_processor)\n",
    "\n",
    "sample_count = sampler.sample_count(1000)\n",
    "print(sample_count['results'])"
   ]
  },
  {
   "cell_type": "code",
   "execution_count": null,
   "id": "b4c293dd-0e27-45e1-9701-55c75df379a0",
   "metadata": {},
   "outputs": [],
   "source": []
  }
 ],
 "metadata": {
  "kernelspec": {
   "display_name": "Python 3 (ipykernel)",
   "language": "python",
   "name": "python3"
  },
  "language_info": {
   "codemirror_mode": {
    "name": "ipython",
    "version": 3
   },
   "file_extension": ".py",
   "mimetype": "text/x-python",
   "name": "python",
   "nbconvert_exporter": "python",
   "pygments_lexer": "ipython3",
   "version": "3.10.6"
  }
 },
 "nbformat": 4,
 "nbformat_minor": 5
}
