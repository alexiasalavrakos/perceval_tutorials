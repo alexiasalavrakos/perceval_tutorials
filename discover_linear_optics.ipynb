{
 "cells": [
  {
   "cell_type": "markdown",
   "id": "190f2bf0-81fa-466f-b49a-96613374422c",
   "metadata": {},
   "source": [
    "Let's import all needed packages."
   ]
  },
  {
   "cell_type": "code",
   "execution_count": null,
   "id": "be257b45-00ba-4723-b6f3-89f65e381e2d",
   "metadata": {},
   "outputs": [],
   "source": [
    "import perceval as pcvl\n",
    "import numpy as np"
   ]
  },
  {
   "cell_type": "code",
   "execution_count": null,
   "id": "1ec2df7e-b777-4878-8bc9-2a00749c7e73",
   "metadata": {},
   "outputs": [],
   "source": [
    "from perceval.components.unitary_components import PS, BS, PERM\n",
    "import numpy as np\n",
    "\n",
    "## Use the symbolic skin for display\n",
    "from perceval.rendering.circuit import DisplayConfig, SymbSkin\n",
    "DisplayConfig.select_skin(SymbSkin)"
   ]
  },
  {
   "cell_type": "markdown",
   "id": "8495dcab-3aa0-47f6-96d5-83166caf9c4d",
   "metadata": {},
   "source": [
    "Defining a state:"
   ]
  },
  {
   "cell_type": "code",
   "execution_count": null,
   "id": "f61edb3c-0204-4af6-918a-b43e7910fe3f",
   "metadata": {},
   "outputs": [],
   "source": [
    "state1 = pcvl.BasicState('|0,2,0,1>')"
   ]
  },
  {
   "cell_type": "markdown",
   "id": "f33ce0f4-516c-4b3a-8209-b6d90144d826",
   "metadata": {},
   "source": [
    "Another way to do it:"
   ]
  },
  {
   "cell_type": "code",
   "execution_count": null,
   "id": "1a86c237-dce8-47f4-8744-afcfbef25e6f",
   "metadata": {},
   "outputs": [],
   "source": [
    "state2 = pcvl.BasicState([0, 2, 0, 1])"
   ]
  },
  {
   "cell_type": "markdown",
   "id": "911c74ee-c7ca-4275-a87d-8ea41226c58f",
   "metadata": {},
   "source": [
    "Check that the states are indeed the same:"
   ]
  },
  {
   "cell_type": "code",
   "execution_count": null,
   "id": "4e85b444-fb1a-4fe0-84a8-feec1121a01a",
   "metadata": {},
   "outputs": [],
   "source": [
    "state1 == state2"
   ]
  },
  {
   "cell_type": "markdown",
   "id": "42b1253d-e1c4-455f-acbf-a66c1b2b2a3c",
   "metadata": {},
   "source": [
    "Let's define a phase shifter:"
   ]
  },
  {
   "cell_type": "code",
   "execution_count": null,
   "id": "a4d3898f-80fc-4e52-975b-8553d005cef9",
   "metadata": {},
   "outputs": [],
   "source": [
    "phase_shifter = PS(phi = np.pi)"
   ]
  },
  {
   "cell_type": "code",
   "execution_count": null,
   "id": "90955e29-be2b-4db1-a193-6eaf26118f6c",
   "metadata": {},
   "outputs": [],
   "source": [
    "pcvl.pdisplay(phase_shifter.definition())"
   ]
  },
  {
   "cell_type": "code",
   "execution_count": null,
   "id": "e3b1f9c6-bf30-4076-887a-ffc9854c4cb7",
   "metadata": {},
   "outputs": [],
   "source": [
    "pcvl.pdisplay(phase_shifter)"
   ]
  },
  {
   "cell_type": "markdown",
   "id": "2ed61ed4-2cea-489c-889a-eb8bcbf09b61",
   "metadata": {},
   "source": [
    "Now a beam splitter:"
   ]
  },
  {
   "cell_type": "code",
   "execution_count": null,
   "id": "babda8ab-dbf9-41dc-bfa9-65d3328f6071",
   "metadata": {},
   "outputs": [],
   "source": [
    "beam_splitter = BS()"
   ]
  },
  {
   "cell_type": "code",
   "execution_count": null,
   "id": "5ac31ec4-678e-49a3-82e4-4b84e8500bc1",
   "metadata": {},
   "outputs": [],
   "source": [
    "pcvl.pdisplay(beam_splitter.definition())"
   ]
  },
  {
   "cell_type": "code",
   "execution_count": null,
   "id": "b0547126-10bb-4345-a370-535b7fd45773",
   "metadata": {},
   "outputs": [],
   "source": [
    "pcvl.pdisplay(beam_splitter)"
   ]
  },
  {
   "cell_type": "code",
   "execution_count": null,
   "id": "0f9ca534-4ac7-4fbd-b296-4906b125144c",
   "metadata": {},
   "outputs": [],
   "source": [
    "pcvl.pdisplay(BS().compute_unitary())"
   ]
  },
  {
   "cell_type": "markdown",
   "id": "92ac5cb0-f79a-4f9e-8116-77a49a5084c5",
   "metadata": {},
   "source": [
    "Note that you can define the phases directly numerically, or define them as parameters with a name that can be set to a numerical value later one in your code."
   ]
  },
  {
   "cell_type": "code",
   "execution_count": null,
   "id": "1433704c-9ed2-4e79-b44a-5e5473d20e74",
   "metadata": {},
   "outputs": [],
   "source": [
    "phase_shifter = PS(phi = np.pi/2)\n",
    "pcvl.pdisplay(phase_shifter)"
   ]
  },
  {
   "cell_type": "code",
   "execution_count": null,
   "id": "3ae80723-ef02-444a-ba32-9005e812238f",
   "metadata": {},
   "outputs": [],
   "source": [
    "phi_angle = pcvl.P('phi_angle')\n",
    "phase_shifter = PS(phi = phi_angle)\n",
    "pcvl.pdisplay(phase_shifter)"
   ]
  },
  {
   "cell_type": "code",
   "execution_count": null,
   "id": "2d10070f-0804-4616-81a2-b99f4063e209",
   "metadata": {},
   "outputs": [],
   "source": [
    "phi_angle.set_value(1)\n",
    "pcvl.pdisplay(phase_shifter)"
   ]
  },
  {
   "cell_type": "markdown",
   "id": "817d3da6-dc2a-4b59-8663-a0a8127568e1",
   "metadata": {},
   "source": [
    "Now let us create a small circuit with these components:"
   ]
  },
  {
   "cell_type": "code",
   "execution_count": null,
   "id": "376d07d7-25c1-4dac-902a-0d6cb953856d",
   "metadata": {},
   "outputs": [],
   "source": [
    "circuit = pcvl.Circuit(3)  # Create a 3 mode circuit"
   ]
  },
  {
   "cell_type": "code",
   "execution_count": null,
   "id": "b1ab137f-bdc1-46a4-b5e9-c8b2ac861aab",
   "metadata": {},
   "outputs": [],
   "source": [
    "circuit.add(0, BS())"
   ]
  },
  {
   "cell_type": "code",
   "execution_count": null,
   "id": "8faff4f4-de01-4f16-bb47-3df77c32f25a",
   "metadata": {},
   "outputs": [],
   "source": [
    "pcvl.pdisplay(circuit)"
   ]
  },
  {
   "cell_type": "code",
   "execution_count": null,
   "id": "00215ba2-70b1-48e2-a11c-1a0bdb31c24f",
   "metadata": {},
   "outputs": [],
   "source": [
    "circuit.add(0, PS(phi=np.pi/2)).add(1, PS(phi=pcvl.P('phi'))).add(1, BS())"
   ]
  },
  {
   "cell_type": "code",
   "execution_count": null,
   "id": "0a664995-a6cf-4ac4-b47d-9ca78b9d4315",
   "metadata": {},
   "outputs": [],
   "source": [
    "pcvl.pdisplay(circuit)"
   ]
  },
  {
   "cell_type": "code",
   "execution_count": null,
   "id": "6b1229d9-344c-4740-8f5c-ad27f61bb07a",
   "metadata": {},
   "outputs": [],
   "source": [
    "pcvl.pdisplay(circuit.U)"
   ]
  },
  {
   "cell_type": "markdown",
   "id": "11295037-65a2-47dd-b9b1-43a4e7e68528",
   "metadata": {},
   "source": [
    "If we want to simulate this circuit we need to define a processor with a backend. "
   ]
  },
  {
   "cell_type": "code",
   "execution_count": null,
   "id": "cf0d541e-1dc0-4a70-804d-b95a2c9a85de",
   "metadata": {},
   "outputs": [],
   "source": [
    "processor = pcvl.Processor(\"SLOS\", circuit)"
   ]
  },
  {
   "cell_type": "markdown",
   "id": "7968e424-e2cb-47c4-bf8a-c437fd94d1bf",
   "metadata": {},
   "source": [
    "Let us add an input state:"
   ]
  },
  {
   "cell_type": "code",
   "execution_count": null,
   "id": "b54a465a-626e-460b-b0c0-9a6d51b35f17",
   "metadata": {},
   "outputs": [],
   "source": [
    "processor.with_input(pcvl.BasicState([1,1,1]))"
   ]
  },
  {
   "cell_type": "markdown",
   "id": "0e4cd929-8cf9-409f-b4bc-0a1bc518f1c6",
   "metadata": {},
   "source": [
    "Different algorithms can be chosen, but here let's sample from the circuit as we would do in an actual experiment:"
   ]
  },
  {
   "cell_type": "code",
   "execution_count": null,
   "id": "c384db64-5548-42d5-86b2-3bcd1713b14d",
   "metadata": {},
   "outputs": [],
   "source": [
    "sampler = pcvl.algorithm.Sampler(processor)\n",
    "\n",
    "sample_count = sampler.sample_count(1000)\n",
    "print(sample_count['results'])"
   ]
  },
  {
   "cell_type": "markdown",
   "id": "34d66d93-b380-4efe-bc45-e6764bbb47d7",
   "metadata": {},
   "source": [
    "How can we fix this?"
   ]
  },
  {
   "cell_type": "code",
   "execution_count": null,
   "id": "5a8eb702-8941-46a5-8a37-34f79331537a",
   "metadata": {},
   "outputs": [],
   "source": []
  },
  {
   "cell_type": "code",
   "execution_count": null,
   "id": "24c452b9-dc8d-41b1-a50c-28c5f1575581",
   "metadata": {},
   "outputs": [],
   "source": []
  },
  {
   "cell_type": "markdown",
   "id": "d376544f-acde-44b6-8a74-6132e91ed77e",
   "metadata": {},
   "source": [
    "Alternative: getting the probability table with Analyzer."
   ]
  },
  {
   "cell_type": "code",
   "execution_count": null,
   "id": "d12ccbe6-d366-4b7a-807d-e3a547b0c161",
   "metadata": {},
   "outputs": [],
   "source": [
    "processor_naive = pcvl.Processor(\"Naive\", circuit)\n",
    "analyzer = pcvl.algorithm.Analyzer(processor_naive, [pcvl.BasicState([1,1,1])], '*')\n",
    "pcvl.pdisplay(analyzer)"
   ]
  },
  {
   "cell_type": "markdown",
   "id": "bb0ee57d-2db2-402b-8834-8de63d7878bf",
   "metadata": {},
   "source": [
    "Check that the values are the same?"
   ]
  },
  {
   "cell_type": "code",
   "execution_count": null,
   "id": "f9d3cb86-a196-40f4-8a0e-5c48b3e98f5f",
   "metadata": {},
   "outputs": [],
   "source": []
  },
  {
   "cell_type": "code",
   "execution_count": null,
   "id": "d49d6429-54fc-4e40-a5bd-5bba31e9a738",
   "metadata": {},
   "outputs": [],
   "source": []
  },
  {
   "cell_type": "markdown",
   "id": "5ecf7bbb-1b28-48d7-9b1c-b9af5962eed2",
   "metadata": {},
   "source": [
    "Instead of manually defining the components of a circuit, we can also define a unitary and Perceval will generate the corresponding circuit:"
   ]
  },
  {
   "cell_type": "code",
   "execution_count": null,
   "id": "ca6da26f-cccc-4e10-8c4d-3ece933ae6f3",
   "metadata": {},
   "outputs": [],
   "source": [
    "circuit_matrix = pcvl.Unitary(pcvl.Matrix.random_unitary(3))"
   ]
  },
  {
   "cell_type": "code",
   "execution_count": null,
   "id": "3dd4e553-2227-433b-90c5-dcc67a0e0e39",
   "metadata": {},
   "outputs": [],
   "source": [
    "processor_unitary = pcvl.Processor(\"SLOS\", circuit_matrix)\n",
    "processor_unitary.with_input(pcvl.BasicState([1,1,1]))"
   ]
  },
  {
   "cell_type": "code",
   "execution_count": null,
   "id": "d468e3d4-86d5-4d27-ba30-facd32818b58",
   "metadata": {},
   "outputs": [],
   "source": [
    "sampler = pcvl.algorithm.Sampler(processor_unitary)\n",
    "\n",
    "sample_count = sampler.sample_count(1000)\n",
    "print(sample_count['results'])"
   ]
  },
  {
   "cell_type": "code",
   "execution_count": null,
   "id": "370bde99-9c14-483a-9362-0eae05c50185",
   "metadata": {},
   "outputs": [],
   "source": []
  },
  {
   "cell_type": "code",
   "execution_count": null,
   "id": "14f16ea1-2fb3-4286-8c8e-cbc1eb31caf2",
   "metadata": {},
   "outputs": [],
   "source": []
  }
 ],
 "metadata": {
  "kernelspec": {
   "display_name": "Python 3 (ipykernel)",
   "language": "python",
   "name": "python3"
  },
  "language_info": {
   "codemirror_mode": {
    "name": "ipython",
    "version": 3
   },
   "file_extension": ".py",
   "mimetype": "text/x-python",
   "name": "python",
   "nbconvert_exporter": "python",
   "pygments_lexer": "ipython3",
   "version": "3.10.6"
  }
 },
 "nbformat": 4,
 "nbformat_minor": 5
}
